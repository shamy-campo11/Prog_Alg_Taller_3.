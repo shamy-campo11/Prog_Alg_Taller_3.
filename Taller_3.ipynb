{
  "nbformat": 4,
  "nbformat_minor": 0,
  "metadata": {
    "colab": {
      "provenance": [],
      "authorship_tag": "ABX9TyMpziC4nHP+u6pTW6no1+Jl",
      "include_colab_link": true
    },
    "kernelspec": {
      "name": "python3",
      "display_name": "Python 3"
    },
    "language_info": {
      "name": "python"
    }
  },
  "cells": [
    {
      "cell_type": "markdown",
      "metadata": {
        "id": "view-in-github",
        "colab_type": "text"
      },
      "source": [
        "<a href=\"https://colab.research.google.com/github/shamy-campo11/Prog_Alg_Taller_3./blob/main/Taller_3.ipynb\" target=\"_parent\"><img src=\"https://colab.research.google.com/assets/colab-badge.svg\" alt=\"Open In Colab\"/></a>"
      ]
    },
    {
      "cell_type": "code",
      "execution_count": 29,
      "metadata": {
        "colab": {
          "base_uri": "https://localhost:8080/"
        },
        "id": "yRmf9thyhwae",
        "outputId": "2b3c1367-7c19-40c5-a7d7-e5136c0122b3"
      },
      "outputs": [
        {
          "name": "stdout",
          "output_type": "stream",
          "text": [
            "escriba nombres de los participantes:Shamy Campo y Lina Hernandez\n"
          ]
        }
      ],
      "source": [
        "name = input(\"escriba nombres de los participantes:\")\n"
      ]
    },
    {
      "cell_type": "markdown",
      "source": [
        "# Problema 1\n",
        "\n",
        "Calcular y mostrar  la posición de una partícula que experimenta movimiento uniformemente acelerado a partir de su posición inicial (𝑥0), velocidad inicial (𝑣0) y aceleración (𝑎) en dos instantes de\n",
        "tiempo diferentes. La posición en un instante de tiempo está dada por:\n",
        "\n",
        "x = x0 + v0 * t + 1/2 * a * t ** 2\n"
      ],
      "metadata": {
        "id": "R74s_Uyck4Cy"
      }
    },
    {
      "cell_type": "code",
      "source": [
        "print(\"programa para calcular la posicion de una particula\")\n",
        "x0 = float(input(\"ingrese la posicion inicial (x0): \"))\n",
        "v0 = float(input(\" ingrese la velocidad inicial (v0): \"))\n",
        "a = float(input(\" ingrese la aceleracion (a): \"))\n",
        "t = float(input(\"ingrese el tiempo (s): \"))\n",
        "x = x0 + v0 * t + 1/2 * a* t ** 2\n",
        "print(\"la posicion de la particula con posicion inicial\", str(x0), \"(x0) y velocidad\", str(v0) , \"(v0) y aceleracion\", str(a) , \"(a) y tiempo\" , str(t) ,\"(s) la posicion es\", str(x) , \"m.\" )\n",
        "\n",
        "\n"
      ],
      "metadata": {
        "id": "CrLfY1CFkjeb",
        "colab": {
          "base_uri": "https://localhost:8080/"
        },
        "outputId": "b953fce9-8611-41c1-f126-c901443575d2"
      },
      "execution_count": 25,
      "outputs": [
        {
          "output_type": "stream",
          "name": "stdout",
          "text": [
            "programa para calcular la posicion de una particula\n",
            "ingrese la posicion inicial (x0): 15\n",
            " ingrese la velocidad inicial (v0): 5\n",
            " ingrese la aceleracion (a): 12.6\n",
            "ingrese el tiempo (s): 7\n",
            "la posicion de la particula con posicion inicial 15.0 (x0) y velocidad 5.0 (v0) y aceleracion 12.6 (a) y tiempo 7.0 (s) la posicion es 358.7 m.\n"
          ]
        }
      ]
    },
    {
      "cell_type": "code",
      "source": [
        "print(\"programa para calcular la posicion de una particula\")\n",
        "x0 = float(input(\"ingrese la posicion inicial (x0): \"))\n",
        "v0 = float(input(\" ingrese la velocidad inicial (v0): \"))\n",
        "a = float(input(\" ingrese la aceleracion (a): \"))\n",
        "t = float(input(\"ingrese el tiempo (s): \"))\n",
        "x = x0 + v0 * t + 1/2 * a* t ** 2\n",
        "print(\"la posicion de la particula con posicion inicial\", str(x0), \"(x0) y velocidad\", str(v0) , \"(v0) y aceleracion\", str(a) , \"(a) y tiempo\" , str(t) ,\"(s) la posicion es\", str(x) , \"m.\" )\n"
      ],
      "metadata": {
        "colab": {
          "base_uri": "https://localhost:8080/"
        },
        "id": "A7M_KnWO4wKS",
        "outputId": "3539ef35-d5c8-414b-882a-1a15140adafb"
      },
      "execution_count": 24,
      "outputs": [
        {
          "output_type": "stream",
          "name": "stdout",
          "text": [
            "programa para calcular la posicion de una particula\n",
            "ingrese la posicion inicial (x0): 12\n",
            " ingrese la velocidad inicial (v0): 7\n",
            " ingrese la aceleracion (a): 5\n",
            "ingrese el tiempo (s): 4\n",
            "la posicion de la particula con posicion inicial 12.0 (x0) y velocidad 7.0 (v0) y aceleracion 5.0 (a) y tiempo 4.0 (s) la posicion es 80.0 m.\n"
          ]
        }
      ]
    },
    {
      "cell_type": "markdown",
      "source": [
        "# PROBLEMA 2\n",
        "Calcular y mostrar la distancia entre dos puntos P1 y P2 ubicados en las coordenadas (𝑥1, 𝑦1) y (𝑥2, 𝑦2). La distancia euclidiana se calcula con la ecuación:\n",
        "\n",
        "d ="
      ],
      "metadata": {
        "id": "425gFFEW6_sL"
      }
    },
    {
      "cell_type": "code",
      "source": [
        "import math\n",
        "print(\" Programa para calcular la distancia entre dos puntos\")\n",
        "x1 = float(input(\"ingrese la coordenada (x1): \"))\n",
        "x2 = float(input(\"ingrese la coordenada (x2): \"))\n",
        "y1 =  float(input(\"ingrese la coordenada (y1): \"))\n",
        "y2 = float(input(\"ingrese la coordenada (y2): \") )\n",
        "distance = math.sqrt((x2 - x1) ** 2 + ((y2 - y1) ** 2 ))\n",
        "print(\" la distancia entre dos puntos con coordenada\", str(x1), \"(x1) y coordenada\", str(x2), \"(x2) y coordenada\", str(y1), \"(y1) y coordenada\", str(y2), \"(y2) la distance es\", str(distance), \"m.\")"
      ],
      "metadata": {
        "colab": {
          "base_uri": "https://localhost:8080/"
        },
        "id": "cHSmcHtD6zY7",
        "outputId": "ed384a0d-7ae6-45f9-8bf1-e0abcf290546"
      },
      "execution_count": 26,
      "outputs": [
        {
          "output_type": "stream",
          "name": "stdout",
          "text": [
            " Programa para calcular la distancia entre dos puntos\n",
            "ingrese la coordenada (x1): 6.5\n",
            "ingrese la coordenada (x2): 2.6\n",
            "ingrese la coordenada (y1): 9.7\n",
            "ingrese la coordenada (y2): 4.5\n",
            " la distancia entre dos puntos con coordenada 6.5 (x1) y coordenada 2.6 (x2) y coordenada 9.7 (y1) y coordenada 4.5 (y2) la distance es 6.499999999999999 m.\n"
          ]
        }
      ]
    },
    {
      "cell_type": "markdown",
      "source": [
        "# PROBLEMA 3\n",
        "\n",
        "Calcular y mostrar el valor del volumen de un cilindro cuyo radio y altura sean ingresados por el usuario. El volumen de un cilindro está dado por:\n",
        "\n",
        "v = pi * r ** 2 * h"
      ],
      "metadata": {
        "id": "l0Zn_Sc3AKXg"
      }
    },
    {
      "cell_type": "code",
      "source": [
        "import math\n",
        "print(\"Programa para calcular el volumen de un cilindro\")\n",
        "r = float(input(\"ingrese el valor del radio (r): \"))\n",
        "h = float(input(\"ingrese el valor de la alturra (h): \"))\n",
        "v = math.pi * r ** 2 * h\n",
        "print(\"El volumen de un cilindro con radio\", str(r), \"(r) y la altura\", str(h), \"(h) y volumen es\" ,str(v),\"m3.\")\n",
        "\n",
        "\n"
      ],
      "metadata": {
        "colab": {
          "base_uri": "https://localhost:8080/"
        },
        "id": "h19r1u06AH6J",
        "outputId": "6b1d847a-73ba-4858-c4c7-2abbe5057dc6"
      },
      "execution_count": 22,
      "outputs": [
        {
          "output_type": "stream",
          "name": "stdout",
          "text": [
            "Programa para calcular el volumen de un cilindro\n",
            "ingrese el valor del radio (r): 8.5\n",
            "ingrese el valor de la alturra (h): 6\n",
            "El volumen de un cilindro con radio 8.5 (r) y la altura 6.0 (h) y volumen es 1361.8804153311753 m3.\n"
          ]
        }
      ]
    },
    {
      "cell_type": "markdown",
      "source": [
        "# PROBLEMA 4\n",
        "Calcular y mostrar el resultado de las siguientes operaciones lógicas:\n",
        "1. A > B y B > D\n",
        "2. B <= C o C < D\n",
        "3. A = B y B > C\n",
        "4. A < C o B < C\n",
        "5. A + D < C y B > 5\n",
        "6. D – C >= - A * B\n",
        "7. D * C == 5 o C * A > 9\n",
        "8. A * B + C > - D * 10"
      ],
      "metadata": {
        "id": "lU-XLO1cFwLs"
      }
    },
    {
      "cell_type": "code",
      "source": [
        " # definir los valores de A, B, C, D\n",
        " A = 25.4\n",
        " B = 23.1\n",
        " C = 12.5\n",
        " D = 4.8\n",
        " # 1. A > B y B > D\n",
        " resultado1 = A > B and B > D\n",
        "\n",
        " # 2. B <= C o C < D\n",
        " resultado2 = B <= C or C < D\n",
        "\n",
        " # 3. A = B Y B > C\n",
        " resultado3 = A = B and B > C\n",
        "\n",
        " # 4. A < C o B < C\n",
        " resultado4 = A < C or B < C\n",
        "\n",
        " # 5. A + D < C y B > 5\n",
        " resultado5 = A + D < C and B > 5\n",
        "\n",
        " # 6. D - C >= -A * B\n",
        " resultado6 = D - C >= -A * B\n",
        "\n",
        " # 7. D * C == 5 o C * A > 9\n",
        " resultado7= D * C == 5 or C * A > 9\n",
        "\n",
        " # 8. A * B + C > -D * 10\n",
        " resultado8 = A * B + C > -D * 10\n",
        "\n",
        " # Mostrar resultados\n",
        "print(\"ingrese resultado 1: \", resultado1)\n",
        "print(\"ingrese resultado 2: \", resultado2)\n",
        "print(\"ingrese resultado 3: \", resultado3)\n",
        "print(\"ingrese resultado 4: \", resultado4)\n",
        "print(\"ingrese resultado 5: \", resultado5)\n",
        "print(\"ingrese resultado 6: \", resultado6)\n",
        "print(\"ingrese resultado 7: \", resultado7)\n",
        "print(\"ingrese resultado 8: \", resultado8)"
      ],
      "metadata": {
        "colab": {
          "base_uri": "https://localhost:8080/"
        },
        "id": "FdJ5rQZREUAw",
        "outputId": "291b8ed8-25fe-424d-8de1-b79facc1c64e"
      },
      "execution_count": 30,
      "outputs": [
        {
          "output_type": "stream",
          "name": "stdout",
          "text": [
            "ingrese resultado 1:  True\n",
            "ingrese resultado 2:  False\n",
            "ingrese resultado 3:  True\n",
            "ingrese resultado 4:  True\n",
            "ingrese resultado 5:  True\n",
            "ingrese resultado 6:  True\n",
            "ingrese resultado 7:  True\n",
            "ingrese resultado 8:  True\n"
          ]
        }
      ]
    },
    {
      "cell_type": "code",
      "source": [],
      "metadata": {
        "id": "C1HaEguFNKG3"
      },
      "execution_count": null,
      "outputs": []
    }
  ]
}